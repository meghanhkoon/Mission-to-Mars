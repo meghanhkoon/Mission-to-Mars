{
 "cells": [
  {
   "cell_type": "code",
   "execution_count": 1,
   "id": "27fe2a33",
   "metadata": {},
   "outputs": [],
   "source": [
    "#11.6.2 Scraping Mars Facts\n",
    "# SCRAPE A TABLE WITH SPLINTER AND BEAUTIFUL SOUP"
   ]
  },
  {
   "cell_type": "code",
   "execution_count": 5,
   "id": "178d015b",
   "metadata": {},
   "outputs": [],
   "source": [
    "from splinter import Browser\n",
    "from bs4 import BeautifulSoup as soup\n",
    "from webdriver_manager.chrome import ChromeDriverManager\n",
    "\n",
    "# Set up Splinter\n",
    "executable_path = {'executable_path': ChromeDriverManager().install()}\n",
    "browser = Browser('chrome', **executable_path, headless=False)\n",
    "\n",
    "# Visit the Mars Facts site\n",
    "url = 'https://galaxyfacts-mars.com/'\n",
    "browser.visit(url)\n",
    "\n",
    "html = browser.html\n",
    "html_soup = soup(html, 'html.parser')"
   ]
  },
  {
   "cell_type": "code",
   "execution_count": 6,
   "id": "2aa38cac",
   "metadata": {},
   "outputs": [],
   "source": [
    "# Find the table\n",
    "table = html_soup.find('table', class_='table-striped')"
   ]
  },
  {
   "cell_type": "code",
   "execution_count": 9,
   "id": "76494711",
   "metadata": {},
   "outputs": [
    {
     "data": {
      "text/plain": [
       "[<tr>\n",
       " <th scope=\"row\">Equatorial Diameter:</th>\n",
       " <td>6,792 km</td>\n",
       " </tr>,\n",
       " <tr>\n",
       " <th scope=\"row\">Polar Diameter:</th>\n",
       " <td>6,752 km</td>\n",
       " </tr>,\n",
       " <tr>\n",
       " <th scope=\"row\">Mass:</th>\n",
       " <td>\t6.39 × 10^23 kg (0.11 Earths)</td>\n",
       " </tr>,\n",
       " <tr>\n",
       " <th scope=\"row\">Moons:</th>\n",
       " <td>\t2 ( <span class=\"red\">Phobos </span> &amp; <span class=\"red\"> Deimos </span>)</td>\n",
       " </tr>,\n",
       " <tr>\n",
       " <th scope=\"row\">Orbit Distance:</th>\n",
       " <td>\t227,943,824 km (1.38 AU)</td>\n",
       " </tr>,\n",
       " <tr>\n",
       " <th scope=\"row\">Orbit Period:</th>\n",
       " <td>\t687 days (1.9 years)</td>\n",
       " </tr>,\n",
       " <tr>\n",
       " <th scope=\"row\">Surface Temperature:</th>\n",
       " <td>\t-87 to -5 °C</td>\n",
       " </tr>,\n",
       " <tr>\n",
       " <th scope=\"row\">First Record:</th>\n",
       " <td>\t2nd millennium BC</td>\n",
       " </tr>,\n",
       " <tr>\n",
       " <th scope=\"row\">Recorded By:</th>\n",
       " <td>\tEgyptian astronomers</td>\n",
       " </tr>]"
      ]
     },
     "execution_count": 9,
     "metadata": {},
     "output_type": "execute_result"
    }
   ],
   "source": [
    "# Store table data \n",
    "mars_facts = {}\n",
    "rows = table.find_all('tr')\n",
    "rows"
   ]
  },
  {
   "cell_type": "code",
   "execution_count": null,
   "id": "dc0f56f4",
   "metadata": {},
   "outputs": [],
   "source": [
    "for row in rows:\n",
    "    row_heading = row.find('th').text\n",
    "    row_data = row.find('td').text.strip()\n",
    "    mars_facts[row_heading] = row_data"
   ]
  },
  {
   "cell_type": "code",
   "execution_count": 5,
   "id": "19ffdb9d",
   "metadata": {},
   "outputs": [
    {
     "data": {
      "text/plain": [
       "{'Equatorial Diameter:': '6,792 km',\n",
       " 'Polar Diameter:': '6,752 km',\n",
       " 'Mass:': '6.39 × 10^23 kg (0.11 Earths)',\n",
       " 'Moons:': '2 ( Phobos  &  Deimos )',\n",
       " 'Orbit Distance:': '227,943,824 km (1.38 AU)',\n",
       " 'Orbit Period:': '687 days (1.9 years)',\n",
       " 'Surface Temperature:': '-87 to -5 °C',\n",
       " 'First Record:': '2nd millennium BC',\n",
       " 'Recorded By:': 'Egyptian astronomers'}"
      ]
     },
     "execution_count": 5,
     "metadata": {},
     "output_type": "execute_result"
    }
   ],
   "source": [
    "mars_facts"
   ]
  },
  {
   "cell_type": "code",
   "execution_count": 4,
   "id": "2dda7a65",
   "metadata": {},
   "outputs": [],
   "source": [
    "browser.quit()"
   ]
  },
  {
   "cell_type": "code",
   "execution_count": null,
   "id": "ca00ef77",
   "metadata": {},
   "outputs": [],
   "source": []
  }
 ],
 "metadata": {
  "kernelspec": {
   "display_name": "Python 3 (ipykernel)",
   "language": "python",
   "name": "python3"
  },
  "language_info": {
   "codemirror_mode": {
    "name": "ipython",
    "version": 3
   },
   "file_extension": ".py",
   "mimetype": "text/x-python",
   "name": "python",
   "nbconvert_exporter": "python",
   "pygments_lexer": "ipython3",
   "version": "3.7.13"
  }
 },
 "nbformat": 4,
 "nbformat_minor": 5
}
