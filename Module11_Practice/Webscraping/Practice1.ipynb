{
 "cells": [
  {
   "cell_type": "code",
   "execution_count": 1,
   "id": "747a74e0",
   "metadata": {},
   "outputs": [
    {
     "name": "stdout",
     "output_type": "stream",
     "text": [
      "Requirement already satisfied: splinter==0.18 in /Users/meghankoon/opt/anaconda3/envs/PythonData/lib/python3.7/site-packages (0.18.0)\n",
      "Requirement already satisfied: selenium in /Users/meghankoon/opt/anaconda3/envs/PythonData/lib/python3.7/site-packages (4.5.0)\n",
      "Requirement already satisfied: trio~=0.17 in /Users/meghankoon/opt/anaconda3/envs/PythonData/lib/python3.7/site-packages (from selenium) (0.22.0)\n",
      "Requirement already satisfied: trio-websocket~=0.9 in /Users/meghankoon/opt/anaconda3/envs/PythonData/lib/python3.7/site-packages (from selenium) (0.9.2)\n",
      "Requirement already satisfied: urllib3[socks]~=1.26 in /Users/meghankoon/opt/anaconda3/envs/PythonData/lib/python3.7/site-packages (from selenium) (1.26.9)\n",
      "Requirement already satisfied: certifi>=2021.10.8 in /Users/meghankoon/opt/anaconda3/envs/PythonData/lib/python3.7/site-packages (from selenium) (2021.10.8)\n",
      "Requirement already satisfied: sniffio in /Users/meghankoon/opt/anaconda3/envs/PythonData/lib/python3.7/site-packages (from trio~=0.17->selenium) (1.2.0)\n",
      "Requirement already satisfied: sortedcontainers in /Users/meghankoon/opt/anaconda3/envs/PythonData/lib/python3.7/site-packages (from trio~=0.17->selenium) (2.4.0)\n",
      "Requirement already satisfied: attrs>=19.2.0 in /Users/meghankoon/opt/anaconda3/envs/PythonData/lib/python3.7/site-packages (from trio~=0.17->selenium) (21.4.0)\n",
      "Requirement already satisfied: idna in /Users/meghankoon/opt/anaconda3/envs/PythonData/lib/python3.7/site-packages (from trio~=0.17->selenium) (3.3)\n",
      "Requirement already satisfied: exceptiongroup>=1.0.0rc9 in /Users/meghankoon/opt/anaconda3/envs/PythonData/lib/python3.7/site-packages (from trio~=0.17->selenium) (1.0.0rc9)\n",
      "Requirement already satisfied: outcome in /Users/meghankoon/opt/anaconda3/envs/PythonData/lib/python3.7/site-packages (from trio~=0.17->selenium) (1.2.0)\n",
      "Requirement already satisfied: async-generator>=1.9 in /Users/meghankoon/opt/anaconda3/envs/PythonData/lib/python3.7/site-packages (from trio~=0.17->selenium) (1.10)\n",
      "Requirement already satisfied: wsproto>=0.14 in /Users/meghankoon/opt/anaconda3/envs/PythonData/lib/python3.7/site-packages (from trio-websocket~=0.9->selenium) (1.2.0)\n",
      "Requirement already satisfied: PySocks!=1.5.7,<2.0,>=1.5.6 in /Users/meghankoon/opt/anaconda3/envs/PythonData/lib/python3.7/site-packages (from urllib3[socks]~=1.26->selenium) (1.7.1)\n",
      "Requirement already satisfied: h11<1,>=0.9.0 in /Users/meghankoon/opt/anaconda3/envs/PythonData/lib/python3.7/site-packages (from wsproto>=0.14->trio-websocket~=0.9->selenium) (0.14.0)\n",
      "Requirement already satisfied: typing-extensions in /Users/meghankoon/opt/anaconda3/envs/PythonData/lib/python3.7/site-packages (from h11<1,>=0.9.0->wsproto>=0.14->trio-websocket~=0.9->selenium) (4.1.1)\n"
     ]
    }
   ],
   "source": [
    "!pip install --upgrade splinter==0.18\n",
    "!pip install selenium"
   ]
  },
  {
   "cell_type": "code",
   "execution_count": 1,
   "id": "25a9e086",
   "metadata": {},
   "outputs": [],
   "source": [
    "from splinter import Browser\n",
    "from bs4 import BeautifulSoup as soup\n",
    "from webdriver_manager.chrome import ChromeDriverManager"
   ]
  },
  {
   "cell_type": "code",
   "execution_count": 2,
   "id": "ac501a48",
   "metadata": {},
   "outputs": [],
   "source": [
    "# Set up Splinter\n",
    "executable_path = {'executable_path': ChromeDriverManager().install()}\n",
    "browser = Browser('chrome', **executable_path, headless=False)"
   ]
  },
  {
   "cell_type": "code",
   "execution_count": null,
   "id": "c18768e4",
   "metadata": {},
   "outputs": [],
   "source": []
  }
 ],
 "metadata": {
  "kernelspec": {
   "display_name": "Python 3 (ipykernel)",
   "language": "python",
   "name": "python3"
  },
  "language_info": {
   "codemirror_mode": {
    "name": "ipython",
    "version": 3
   },
   "file_extension": ".py",
   "mimetype": "text/x-python",
   "name": "python",
   "nbconvert_exporter": "python",
   "pygments_lexer": "ipython3",
   "version": "3.7.13"
  }
 },
 "nbformat": 4,
 "nbformat_minor": 5
}
